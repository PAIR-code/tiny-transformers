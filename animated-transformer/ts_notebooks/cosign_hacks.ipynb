{
 "cells": [
  {
   "cell_type": "code",
   "execution_count": null,
   "metadata": {},
   "outputs": [],
   "source": [
    "import * as tslab from 'tslab';\n",
    "\n",
    "console.log('Hello, tslab!')\n",
    "console.log('Versions:', tslab.versions)"
   ]
  },
  {
   "cell_type": "code",
   "execution_count": null,
   "metadata": {},
   "outputs": [],
   "source": [
    "import Jimp from 'jimp';\n",
    "import {promisify} from 'util';\n",
    "import {dataset as mnist} from './lib/mnist';\n",
    "import * as tf from '@tensorflow/tfjs-node'\n",
    "import {display} from 'tslab';\n",
    "import * as tslab from 'tslab';"
   ]
  },
  {
   "cell_type": "code",
   "execution_count": null,
   "metadata": {},
   "outputs": [],
   "source": [
    "display.html('<h3>TensorFlow.js versions</h3>')\n",
    "console.log(tf.version)\n",
    "display.html('<h3>tslab versions</h3>')\n",
    "console.log(tslab.versions);"
   ]
  },
  {
   "cell_type": "code",
   "execution_count": null,
   "metadata": {},
   "outputs": [],
   "source": [
    "await mnist.loadData();"
   ]
  }
 ],
 "metadata": {
  "language_info": {
   "codemirror_mode": {
    "name": "ipython",
    "version": 3
   },
   "file_extension": ".py",
   "mimetype": "text/x-python",
   "name": "python",
   "nbconvert_exporter": "python",
   "pygments_lexer": "ipython3",
   "version": 3
  },
  "orig_nbformat": 4
 },
 "nbformat": 4,
 "nbformat_minor": 2
}